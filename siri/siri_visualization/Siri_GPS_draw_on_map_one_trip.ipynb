{
 "cells": [
  {
   "cell_type": "markdown",
   "metadata": {},
   "source": [
    "**This notebook represents a conceptual workflow to extract and visualize planned (GTFS) and actual (Siri) bus data of a single bus trip**.\n",
    "\n",
    "A single bus trip details is identified by an initial user's input of **date and line number**, which are used in GTFS queries, that returns to the user data about possible **agency, starting time and starting stop** from which one option should be picked to uniqely identify the single trip.\n",
    "\n",
    "The script requires that the data for the required date will already be saved in the user \"DATA_DIR\" directory:\n",
    "* GTFS file (can be obtained by running gtfs_stats.py with the relevant date set at gtfs_stats_conf.py)\n",
    "* Route stats and trip stats data frames (can be obtained by running gtfs_stats.py on the GTFS mentioned above)\n",
    "* Raw Siri log files (As for now should be manually downloaded from our google drive storage)\n",
    "\n",
    "(GTFS stats and Siri data are supposed to be avilable online soon.)"
   ]
  },
  {
   "cell_type": "markdown",
   "metadata": {},
   "source": [
    "# Imports and Utils"
   ]
  },
  {
   "cell_type": "code",
   "execution_count": null,
   "metadata": {
    "ExecuteTime": {
     "end_time": "2018-11-25T18:33:59.820914Z",
     "start_time": "2018-11-25T18:33:57.486767Z"
    },
    "collapsed": true
   },
   "outputs": [],
   "source": [
    "import pandas as pd\n",
    "import os.path\n",
    "import gzip\n",
    "import glob\n",
    "import numpy as np\n",
    "import partridge as ptg\n",
    "import datetime"
   ]
  },
  {
   "cell_type": "code",
   "execution_count": null,
   "metadata": {
    "ExecuteTime": {
     "end_time": "2018-11-25T18:34:32.539979Z",
     "start_time": "2018-11-25T18:34:32.534966Z"
    }
   },
   "outputs": [],
   "source": [
    "# DATA_DIR = 'PATH/TO/DATA/DIR' ## Your input here\n",
    "DATA_DIR = r'C:\\Users\\adiwa\\Google Drive\\OpenBusAdi\\data' ## Your input here"
   ]
  },
  {
   "cell_type": "code",
   "execution_count": null,
   "metadata": {
    "ExecuteTime": {
     "end_time": "2018-11-25T18:34:34.714863Z",
     "start_time": "2018-11-25T18:34:34.699825Z"
    },
    "collapsed": true
   },
   "outputs": [],
   "source": [
    "def merc_row(row, lat_col='lat', lon_col='lon'):\n",
    "    \"\"\" Convert GPS coordinates to x,y format\"\"\"\n",
    "    lat = float(row[lat_col])\n",
    "    lon = float(row[lon_col])\n",
    "    \n",
    "    new_row = row.copy()\n",
    "    \n",
    "    if lon == 0:\n",
    "        new_row['x'] = np.nan\n",
    "        new_row['y'] = np.nan\n",
    "        return new_row\n",
    "    \n",
    "    r_major = 6378137.000\n",
    "    x = r_major * np.radians(lon)\n",
    "    scale = x/lon\n",
    "    y = 180.0/np.pi * np.log(np.tan(np.pi/4.0 + \n",
    "        lat * (np.pi/180.0)/2.0)) * scale\n",
    "    new_row['x'] = x\n",
    "    new_row['y'] = y\n",
    "    return new_row"
   ]
  },
  {
   "cell_type": "markdown",
   "metadata": {},
   "source": [
    "# GTFS data"
   ]
  },
  {
   "cell_type": "markdown",
   "metadata": {},
   "source": [
    "## Date + Line number --> agency"
   ]
  },
  {
   "cell_type": "code",
   "execution_count": null,
   "metadata": {
    "ExecuteTime": {
     "end_time": "2018-11-25T18:34:37.114668Z",
     "start_time": "2018-11-25T18:34:37.111659Z"
    },
    "collapsed": true
   },
   "outputs": [],
   "source": [
    "date = '2018-10-11' ## Your input here"
   ]
  },
  {
   "cell_type": "code",
   "execution_count": null,
   "metadata": {
    "ExecuteTime": {
     "end_time": "2018-11-25T18:34:37.854724Z",
     "start_time": "2018-11-25T18:34:37.802584Z"
    },
    "collapsed": true
   },
   "outputs": [],
   "source": [
    "# Get the relevant GTFS stats tables:\n",
    "rstats = pd.read_pickle(os.path.join(DATA_DIR, 'gtfs_stats_MOD_ffill',\n",
    "                                     '{}_route_stats.pkl.gz'.format(date)))"
   ]
  },
  {
   "cell_type": "code",
   "execution_count": null,
   "metadata": {
    "ExecuteTime": {
     "end_time": "2018-11-25T18:34:38.562709Z",
     "start_time": "2018-11-25T18:34:38.558698Z"
    },
    "collapsed": true
   },
   "outputs": [],
   "source": [
    "line_number = '108' ## Your input here"
   ]
  },
  {
   "cell_type": "code",
   "execution_count": null,
   "metadata": {
    "ExecuteTime": {
     "end_time": "2018-11-25T18:34:39.373149Z",
     "start_time": "2018-11-25T18:34:39.351114Z"
    }
   },
   "outputs": [],
   "source": [
    "agency_options =  rstats.loc[rstats.route_short_name == line_number, \n",
    "                             ['agency_id', 'agency_name']].drop_duplicates()\n",
    "agency_options = agency_options.sort_values('agency_name')\n",
    "print('We found {} providers for this line, please choose agency_id:'.format(agency_options.shape[0]))\n",
    "print('\\n'.join(['----'.join(x) for _, x in agency_options.iterrows()]))"
   ]
  },
  {
   "cell_type": "markdown",
   "metadata": {},
   "source": [
    "## Agency --> Hours"
   ]
  },
  {
   "cell_type": "code",
   "execution_count": null,
   "metadata": {
    "ExecuteTime": {
     "end_time": "2018-11-25T18:34:42.402063Z",
     "start_time": "2018-11-25T18:34:42.399055Z"
    },
    "collapsed": true
   },
   "outputs": [],
   "source": [
    "agency_id = '18'  ## Your input here"
   ]
  },
  {
   "cell_type": "code",
   "execution_count": null,
   "metadata": {
    "ExecuteTime": {
     "end_time": "2018-11-25T18:34:43.545689Z",
     "start_time": "2018-11-25T18:34:43.357184Z"
    },
    "collapsed": true
   },
   "outputs": [],
   "source": [
    "tstats = pd.read_pickle(os.path.join(DATA_DIR, 'gtfs_stats_MOD_ffill',\n",
    "                                     '{}_trip_stats.pkl.gz'.format(date)))"
   ]
  },
  {
   "cell_type": "code",
   "execution_count": null,
   "metadata": {
    "ExecuteTime": {
     "end_time": "2018-11-25T18:34:46.141481Z",
     "start_time": "2018-11-25T18:34:46.074302Z"
    }
   },
   "outputs": [],
   "source": [
    "# start_time\n",
    "optional_start_time = tstats.loc[(tstats.route_short_name == line_number) & \n",
    "                                 (tstats.agency_id == agency_id)].start_time.unique()\n",
    "optional_start_time = sorted(optional_start_time)\n",
    "print('We found {} optional start times, please choose one:'.format(len(optional_start_time)))\n",
    "print('\\n'.join(optional_start_time))"
   ]
  },
  {
   "cell_type": "markdown",
   "metadata": {},
   "source": [
    "## Time --> start and end stops"
   ]
  },
  {
   "cell_type": "code",
   "execution_count": null,
   "metadata": {
    "ExecuteTime": {
     "end_time": "2018-11-25T18:34:49.137381Z",
     "start_time": "2018-11-25T18:34:49.133368Z"
    },
    "collapsed": true
   },
   "outputs": [],
   "source": [
    "start_time = '07:40:00'  ## Your input here"
   ]
  },
  {
   "cell_type": "code",
   "execution_count": null,
   "metadata": {
    "ExecuteTime": {
     "end_time": "2018-11-25T18:34:50.033016Z",
     "start_time": "2018-11-25T18:34:49.982394Z"
    }
   },
   "outputs": [],
   "source": [
    "optional_starts = tstats.loc[(tstats.route_short_name == line_number) & \n",
    "                             (tstats.agency_id == agency_id) &\n",
    "                             (tstats.start_time == start_time)]\n",
    "if optional_starts.empty:\n",
    "    print('Bad start time')\n",
    "elif optional_starts.shape[0] == 1:\n",
    "    route_id = optional_starts.route_id.values[0]\n",
    "    start_id, end_id = optional_starts[['start_stop_id', 'end_stop_id']].values[0]\n",
    "    print(optional_starts[['start_stop_id', 'end_stop_id']])\n",
    "else:\n",
    "    optional_starts_str = optional_starts.apply(lambda r: 'From {} {} To {} {}'.format(r.start_stop_name,\n",
    "                                                                                       r.start_stop_id,\n",
    "                                                                                       r.end_stop_name,\n",
    "                                                                                       r.end_stop_id),\n",
    "                                                axis=1)\n",
    "\n",
    "    print('We found {} optional directions, please choose one:'.format(optional_starts.shape[0]))\n",
    "    print('\\n'.join(optional_starts_str.values))"
   ]
  },
  {
   "cell_type": "markdown",
   "metadata": {},
   "source": [
    "## From start+end+time --> route id --> shape_id"
   ]
  },
  {
   "cell_type": "code",
   "execution_count": null,
   "metadata": {
    "ExecuteTime": {
     "end_time": "2018-11-25T18:35:07.227893Z",
     "start_time": "2018-11-25T18:35:07.208843Z"
    }
   },
   "outputs": [],
   "source": [
    "route_id, trip_id, shape_id = optional_starts.loc[(optional_starts.start_stop_id == start_id) &\n",
    "                                                  (optional_starts.end_stop_id == end_id), \n",
    "                                                  ['route_id', 'trip_id', 'shape_id']].values[0]\n",
    "\n",
    "route_id, trip_id, shape_id"
   ]
  },
  {
   "cell_type": "markdown",
   "metadata": {},
   "source": [
    "## Finally.... get the route shape and stops"
   ]
  },
  {
   "cell_type": "code",
   "execution_count": null,
   "metadata": {
    "ExecuteTime": {
     "end_time": "2018-11-25T18:35:09.776212Z",
     "start_time": "2018-11-25T18:35:09.753153Z"
    },
    "collapsed": true
   },
   "outputs": [],
   "source": [
    "gtfs_path = os.path.join(DATA_DIR, 'gtfs_feeds', '{}.zip'.format(date))\n",
    "feed = ptg.feed(gtfs_path, view={\n",
    "    'trips.txt': {'trip_id': [trip_id]},\n",
    "})"
   ]
  },
  {
   "cell_type": "code",
   "execution_count": null,
   "metadata": {
    "ExecuteTime": {
     "end_time": "2018-11-25T18:35:26.070532Z",
     "start_time": "2018-11-25T18:35:11.010325Z"
    }
   },
   "outputs": [],
   "source": [
    "trip_shape = feed.shapes[feed.shapes.shape_id == shape_id]\n",
    "trip_shape = trip_shape.apply(merc_row, lat_col='shape_pt_lat', lon_col='shape_pt_lon', axis=1)\n",
    "trip_shape = trip_shape.dropna(how='any', subset=['x'])\n",
    "trip_shape = trip_shape.set_index('shape_pt_sequence')[['x', 'y']].sort_index()\n",
    "trip_shape.shape"
   ]
  },
  {
   "cell_type": "code",
   "execution_count": null,
   "metadata": {
    "ExecuteTime": {
     "end_time": "2018-11-25T18:39:35.208081Z",
     "start_time": "2018-11-25T18:39:09.552932Z"
    },
    "collapsed": true,
    "scrolled": true
   },
   "outputs": [],
   "source": [
    "# stops of this trip with times:\n",
    "stop_times = feed.stop_times # should have only the relevant trip id!\n",
    "stop_times = stop_times[stop_times.trip_id == trip_id]\n",
    "time_cols = ['arrival_time', 'departure_time']\n",
    "stop_times[time_cols] = stop_times[time_cols].apply(pd.to_timedelta, unit='s')\n",
    "\n",
    "# add stops details (geo, name)\n",
    "stop_times = stop_times.merge(feed.stops, on='stop_id')\n",
    "stop_times = stop_times.apply(merc_row, lat_col='stop_lat', lon_col='stop_lon', axis=1)"
   ]
  },
  {
   "cell_type": "markdown",
   "metadata": {},
   "source": [
    "# Siri data"
   ]
  },
  {
   "cell_type": "code",
   "execution_count": null,
   "metadata": {
    "ExecuteTime": {
     "end_time": "2018-11-25T18:39:50.653762Z",
     "start_time": "2018-11-25T18:39:50.644738Z"
    },
    "collapsed": true
   },
   "outputs": [],
   "source": [
    "def parse_trips(path):\n",
    "    trip = []\n",
    "    with gzip.open(path, 'rb') as f:\n",
    "        for line in f:\n",
    "            line = line.strip()\n",
    "            if line:\n",
    "                line = line.split(b',')[2:]\n",
    "                line = [element.decode(\"utf-8\") for element in line]\n",
    "                trip.append({\"agency\": line[0], \"route_id\": line[1], \"line_num\": line[2]\n",
    "                                , \"service_id\": line[3], \"start_time\": line[4], \"bus_id\": line[5],\n",
    "                             \"end_time\": line[6], \"time_recorded\": line[7],\n",
    "                             \"coordinates\": (line[8], line[9])})\n",
    "    return trip"
   ]
  },
  {
   "cell_type": "code",
   "execution_count": null,
   "metadata": {
    "ExecuteTime": {
     "end_time": "2018-11-25T18:42:05.528478Z",
     "start_time": "2018-11-25T18:39:53.343025Z"
    }
   },
   "outputs": [],
   "source": [
    "trips = None\n",
    "dir_path = r'C:\\Users\\adiwa\\Google Drive\\OpenBusAdi\\data\\siri_logs\\Siri-{}'.format(date)\n",
    "if not os.path.exists(dir_path):\n",
    "    dir_path = r'C:\\Users\\adiwa\\Google Drive\\OpenBusAdi\\data\\siri_logs\\Siri-{}'.format(date[:7])\n",
    "for path in glob.glob(os.path.join(dir_path, 'siri_rt_data.{}.*.log.gz'.format(date))): \n",
    "    print(path)\n",
    "    cur_trips = pd.DataFrame(parse_trips(path))\n",
    "    trips = pd.concat([trips, cur_trips], axis=0)"
   ]
  },
  {
   "cell_type": "code",
   "execution_count": null,
   "metadata": {
    "ExecuteTime": {
     "end_time": "2018-11-25T18:42:13.725863Z",
     "start_time": "2018-11-25T18:42:10.503915Z"
    },
    "scrolled": true
   },
   "outputs": [],
   "source": [
    "## TODO - this code is very specific to the string format of the time - will it stay like this?\n",
    "siri_data = trips[(trips.agency == agency_id) & (trips.route_id == route_id) & \n",
    "                  (trips.start_time == ':'.join(start_time.split(':')[:-1]))]\n",
    "siri_data = siri_data.drop_duplicates()\n",
    "print(siri_data.shape)\n",
    "siri_data = siri_data.sort_values('time_recorded')\n",
    "\n",
    "siri_data = pd.concat([siri_data, pd.DataFrame(siri_data.coordinates.values.tolist(), \n",
    "                                               index=siri_data.index, columns=['lat', 'lon'])], \n",
    "                      axis=1, sort=False)\n",
    "siri_data.shape"
   ]
  },
  {
   "cell_type": "code",
   "execution_count": null,
   "metadata": {
    "ExecuteTime": {
     "end_time": "2018-11-25T18:42:18.809445Z",
     "start_time": "2018-11-25T18:42:18.571549Z"
    }
   },
   "outputs": [],
   "source": [
    "siri_data = siri_data.apply(merc_row, axis=1)\n",
    "siri_data = siri_data.dropna(how='any', subset=['x'])\n",
    "siri_data = siri_data.drop_duplicates(['x', 'y', 'time_recorded']).sort_values('time_recorded')\n",
    "\n",
    "siri_data['serial_number'] = siri_data.reset_index(drop=True).index.values + 1\n",
    "siri_data.shape"
   ]
  },
  {
   "cell_type": "markdown",
   "metadata": {},
   "source": [
    "# Bokeh visualization"
   ]
  },
  {
   "cell_type": "code",
   "execution_count": null,
   "metadata": {
    "ExecuteTime": {
     "end_time": "2018-11-25T18:54:52.735361Z",
     "start_time": "2018-11-25T18:54:52.727340Z"
    }
   },
   "outputs": [],
   "source": [
    "from bokeh.io import output_notebook, show\n",
    "from bokeh.resources import INLINE \n",
    "output_notebook(resources=INLINE)\n",
    "\n",
    "## Use this import to save html file instead of previewing it inside the notebook\n",
    "# from bokeh.io import output_file, save \n",
    "\n",
    "from bokeh.plotting import figure\n",
    "from bokeh.tile_providers import CARTODBPOSITRON\n",
    "from bokeh.palettes import inferno, magma\n",
    "from bokeh.models import ColumnDataSource, LabelSet, HoverTool, Circle, Square"
   ]
  },
  {
   "cell_type": "code",
   "execution_count": null,
   "metadata": {
    "ExecuteTime": {
     "end_time": "2018-11-25T18:58:47.917447Z",
     "start_time": "2018-11-25T18:58:47.885363Z"
    },
    "collapsed": true
   },
   "outputs": [],
   "source": [
    "# Plot siri:\n",
    "plot_width  = int(540)\n",
    "plot_height = plot_width\n",
    "\n",
    "# zoom and scale\n",
    "p = figure(tools='pan,wheel_zoom,box_zoom,reset,save',\n",
    "           active_drag='pan', active_scroll='wheel_zoom', toolbar_location='left',\n",
    "           x_axis_type=\"mercator\", y_axis_type=\"mercator\",\n",
    "           title='GPS data for line {} at {}, {}'.format(line_number, date, start_time))\n",
    "# map\n",
    "p.add_tile(CARTODBPOSITRON)\n",
    "# GPS points\n",
    "siri_source = ColumnDataSource(siri_data)\n",
    "siri_points = Circle(x='x', y='y', size=10, fill_color='blue')\n",
    "siri_gl = p.add_glyph(source_or_glyph=siri_source, glyph=siri_points)\n",
    "\n",
    "# Points hover tool\n",
    "siri_tooltips = [\n",
    "    (\"serial_number\", \"@serial_number\"),\n",
    "    (\"time_recorded\", \"@time_recorded\"),\n",
    "    ]\n",
    "siri_hover = HoverTool(renderers=[siri_gl],\n",
    "                       tooltips=siri_tooltips)\n",
    "p.add_tools(siri_hover)\n",
    "\n",
    "\n",
    "# GPS annotations\n",
    "labels = LabelSet(x='x', y='y', text='serial_number', level='glyph',\n",
    "                  x_offset=0.1, y_offset=0.2, source=siri_source, render_mode='canvas')\n",
    "p.add_layout(labels)"
   ]
  },
  {
   "cell_type": "code",
   "execution_count": null,
   "metadata": {
    "ExecuteTime": {
     "end_time": "2018-11-25T18:58:51.558207Z",
     "start_time": "2018-11-25T18:58:51.519103Z"
    }
   },
   "outputs": [],
   "source": [
    "# Plot GTFS:\n",
    "gtfs_source = ColumnDataSource(trip_shape)\n",
    "p.line(x='x', y='y', source=gtfs_source, line_width=2, color='yellow')"
   ]
  },
  {
   "cell_type": "code",
   "execution_count": null,
   "metadata": {
    "ExecuteTime": {
     "end_time": "2018-11-25T18:58:52.366682Z",
     "start_time": "2018-11-25T18:58:52.357658Z"
    },
    "collapsed": true
   },
   "outputs": [],
   "source": [
    "stops_source = ColumnDataSource(stop_times)\n",
    "stops_squares = Square(x='x', y='y', size=10, fill_color='yellow')\n",
    "stops_gl = p.add_glyph(source_or_glyph=stops_source, glyph=stops_squares)\n",
    "\n",
    "# Squares hover tool\n",
    "stops_tooltips = [\n",
    "    (\"arrival_time\", \"@arrival_time{%T}\"),\n",
    "    (\"stop_name\", \"@stop_name\"),\n",
    "    ]\n",
    "stops_hover = HoverTool(renderers=[stops_gl],\n",
    "                        tooltips=stops_tooltips, formatters={'arrival_time': 'datetime'})\n",
    "p.add_tools(stops_hover)"
   ]
  },
  {
   "cell_type": "code",
   "execution_count": null,
   "metadata": {
    "ExecuteTime": {
     "end_time": "2018-11-25T18:58:56.253234Z",
     "start_time": "2018-11-25T18:58:56.185056Z"
    },
    "scrolled": false
   },
   "outputs": [],
   "source": [
    "show(p)"
   ]
  },
  {
   "cell_type": "code",
   "execution_count": null,
   "metadata": {
    "ExecuteTime": {
     "end_time": "2018-11-25T19:00:47.840694Z",
     "start_time": "2018-11-25T19:00:47.744437Z"
    }
   },
   "outputs": [],
   "source": [
    "# output_file('GPS_data_line_{}_{}_{}.html'.format(line_number, date, start_time.replace(':', '')),\n",
    "#             mode='inline') \n",
    "# save(p) "
   ]
  }
 ],
 "metadata": {
  "kernelspec": {
   "display_name": "Python 3",
   "language": "python",
   "name": "python3"
  },
  "language_info": {
   "codemirror_mode": {
    "name": "ipython",
    "version": 3
   },
   "file_extension": ".py",
   "mimetype": "text/x-python",
   "name": "python",
   "nbconvert_exporter": "python",
   "pygments_lexer": "ipython3",
   "version": "3.6.1"
  },
  "toc": {
   "nav_menu": {},
   "number_sections": true,
   "sideBar": true,
   "skip_h1_title": false,
   "toc_cell": false,
   "toc_position": {},
   "toc_section_display": "block",
   "toc_window_display": true
  }
 },
 "nbformat": 4,
 "nbformat_minor": 2
}
